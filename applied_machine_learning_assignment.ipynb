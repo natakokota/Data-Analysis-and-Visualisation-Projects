{
 "cells": [
  {
   "cell_type": "code",
   "execution_count": 1,
   "id": "60dcd2d7",
   "metadata": {
    "scrolled": true
   },
   "outputs": [],
   "source": [
    "from scipy.stats import shapiro \n",
    "import pandas as pd\n",
    "import math\n",
    "import pingouin as pg\n",
    "from scipy import stats\n",
    "import numpy as np\n",
    "import statistics\n",
    "import seaborn as sns\n",
    "import matplotlib.pyplot as plt\n",
    "from sklearn.preprocessing import MinMaxScaler\n",
    "from statsmodels.discrete.discrete_model import Probit\n",
    "import statsmodels.api as sm\n",
    "from scipy.stats import mstats\n",
    "from sklearn.preprocessing import StandardScaler\n",
    "from sklearn.decomposition import PCA\n",
    "from statsmodels.stats.multitest import multipletests\n",
    "from sklearn.utils import resample\n",
    "from sklearn.metrics import roc_curve, auc\n",
    "from statsmodels.discrete.discrete_model import Probit\n",
    "from statsmodels.tools import add_constant\n",
    "from sklearn.metrics import roc_auc_score, roc_curve"
   ]
  },
  {
   "cell_type": "code",
   "execution_count": 2,
   "id": "d5bf59f9",
   "metadata": {},
   "outputs": [],
   "source": [
    "!pip install pingouin -q"
   ]
  },
  {
   "cell_type": "code",
   "execution_count": 3,
   "id": "feb29778",
   "metadata": {},
   "outputs": [],
   "source": [
    "df = pd.read_csv('mosleh_et_al_data.csv')"
   ]
  },
  {
   "cell_type": "markdown",
   "id": "56e1d175",
   "metadata": {},
   "source": [
    "# Twitter Suspensions after the 2020 Election"
   ]
  },
  {
   "cell_type": "markdown",
   "id": "b7f25371",
   "metadata": {},
   "source": [
    "We will use the Chi-square test of independence to find out whether the sharing of one of the hashtags #VoteBidenHarris2020, #Trump2020 influences the suspension of an account. \n",
    "* Null hypothesis (H0): the suspension of an account and the hashtag shared are independent.\n",
    "* Alternative hypothesis (HA): the suspension of an account and the hashtag shared are dependent.\n",
    "<br> Significance level: 0.05"
   ]
  },
  {
   "cell_type": "code",
   "execution_count": 4,
   "id": "eaaafd1d",
   "metadata": {},
   "outputs": [
    {
     "name": "stdout",
     "output_type": "stream",
     "text": [
      "                      not suspended  suspended\n",
      "#VoteBidenHarris2020           4295        200\n",
      "#Trump2020                     3623        882\n"
     ]
    }
   ],
   "source": [
    "ct = pd.crosstab(df['politics_hashtag'], df['suspended'])\n",
    "ct.index = ['#VoteBidenHarris2020', '#Trump2020']\n",
    "ct.columns = ['not suspended', 'suspended']\n",
    "print(ct)"
   ]
  },
  {
   "cell_type": "code",
   "execution_count": 5,
   "id": "ce6edeab",
   "metadata": {
    "scrolled": true
   },
   "outputs": [
    {
     "data": {
      "text/plain": [
       "1.3808204811294585e-107"
      ]
     },
     "execution_count": 5,
     "metadata": {},
     "output_type": "execute_result"
    }
   ],
   "source": [
    "res = stats.chi2_contingency(ct)\n",
    "res.pvalue"
   ]
  },
  {
   "cell_type": "markdown",
   "id": "89fe7dca",
   "metadata": {},
   "source": [
    "The p value is far less than the significance level (1.38×10^(-17)< 0.05) so the null hypothesis is rejected and we accept that the suspension of an account is influenced by the hashtag it has shared."
   ]
  },
  {
   "cell_type": "markdown",
   "id": "fe57589b",
   "metadata": {},
   "source": [
    "## Distributions of Relative Frequency of Low Quality"
   ]
  },
  {
   "cell_type": "code",
   "execution_count": 6,
   "id": "b76842b8",
   "metadata": {
    "scrolled": false
   },
   "outputs": [
    {
     "name": "stdout",
     "output_type": "stream",
     "text": [
      "   politics_hashtag  lowqual_pr2019_fc  lowqual_pr2019_crowd\n",
      "0                 0           0.279221              0.598883\n",
      "1                 1           0.848639              0.774873\n",
      "2                 0           0.242347              0.548727\n",
      "3                 0           0.360119              0.611501\n",
      "4                 1           0.698661              0.700217\n"
     ]
    }
   ],
   "source": [
    "low_qual_hashtag = df[['politics_hashtag', 'lowqual_pr2019_fc', 'lowqual_pr2019_crowd']]\n",
    "print(low_qual_hashtag.head())"
   ]
  },
  {
   "cell_type": "markdown",
   "id": "7d34f439",
   "metadata": {},
   "source": [
    "We standardize the low quality news sharing (columns lowqual_pr2019_fc and lowqual_pr2019_crowd) using z-scores in order to make the datapoints comparable."
   ]
  },
  {
   "cell_type": "code",
   "execution_count": 7,
   "id": "8ef15ce5",
   "metadata": {},
   "outputs": [
    {
     "name": "stdout",
     "output_type": "stream",
     "text": [
      "   politics_hashtag  lowqual_pr2019_fc  lowqual_pr2019_crowd\n",
      "0                 0          -0.782343             -0.541104\n",
      "1                 1           1.597431              1.898497\n",
      "2                 0          -0.936449             -1.236379\n",
      "3                 0          -0.444244             -0.366194\n",
      "4                 1           0.970625              0.863601\n"
     ]
    }
   ],
   "source": [
    "standardized_low_qual = low_qual_hashtag[['lowqual_pr2019_fc', 'lowqual_pr2019_crowd']].apply(\n",
    "    lambda x: (x - x.mean()) / x.std()\n",
    ")\n",
    "\n",
    "standardized_low_qual_hashtag = pd.concat([low_qual_hashtag['politics_hashtag'], standardized_low_qual], axis=1)\n",
    "print(standardized_low_qual_hashtag.head())"
   ]
  },
  {
   "cell_type": "markdown",
   "id": "7c8867ef",
   "metadata": {},
   "source": [
    "We plot the distributions of low-quality sharing as determined by professional fact-checkers based on the hashtag shared."
   ]
  },
  {
   "cell_type": "code",
   "execution_count": 8,
   "id": "338a9cbe",
   "metadata": {
    "scrolled": false
   },
   "outputs": [
    {
     "name": "stderr",
     "output_type": "stream",
     "text": [
      "/opt/anaconda3/lib/python3.11/site-packages/seaborn/_base.py:948: FutureWarning: When grouping with a length-1 list-like, you will need to pass a length-1 tuple to get_group in a future version of pandas. Pass `(name,)` instead of `name` to silence this warning.\n",
      "  data_subset = grouped_data.get_group(pd_key)\n"
     ]
    },
    {
     "data": {
      "text/plain": [
       "<matplotlib.legend.Legend at 0x169ca8a10>"
      ]
     },
     "execution_count": 8,
     "metadata": {},
     "output_type": "execute_result"
    },
    {
     "data": {
      "image/png": "[encoded data removed]",
      "text/plain": [
       "<Figure size 700x400 with 1 Axes>"
      ]
     },
     "metadata": {},
     "output_type": "display_data"
    }
   ],
   "source": [
    "sns.displot(standardized_low_qual_hashtag, x=\"lowqual_pr2019_fc\", hue=\"politics_hashtag\", \n",
    "            kind=\"kde\", fill=True, height=4, aspect=1.75, legend=False, palette=[\"red\", \"blue\"])\n",
    "plt.xlabel(\"Low-quality news sharing\")\n",
    "plt.ylabel(\"Frequency\")\n",
    "plt.legend(title=\"People who shared\", labels=[\"Trump hashtags\", \"Biden hashtags\"]) "
   ]
  },
  {
   "cell_type": "markdown",
   "id": "2b229bc9",
   "metadata": {},
   "source": [
    "Then we plot the distributions of low-quality sharing as determined by crowdsourcing based on the hashtag shared."
   ]
  },
  {
   "cell_type": "code",
   "execution_count": 9,
   "id": "a407aab7",
   "metadata": {},
   "outputs": [
    {
     "name": "stderr",
     "output_type": "stream",
     "text": [
      "/opt/anaconda3/lib/python3.11/site-packages/seaborn/_base.py:948: FutureWarning: When grouping with a length-1 list-like, you will need to pass a length-1 tuple to get_group in a future version of pandas. Pass `(name,)` instead of `name` to silence this warning.\n",
      "  data_subset = grouped_data.get_group(pd_key)\n"
     ]
    },
    {
     "data": {
      "text/plain": [
       "<matplotlib.legend.Legend at 0x16a0f92d0>"
      ]
     },
     "execution_count": 9,
     "metadata": {},
     "output_type": "execute_result"
    },
    {
     "data": {
      "image/png": "[encoded data removed]",
      "text/plain": [
       "<Figure size 700x400 with 1 Axes>"
      ]
     },
     "metadata": {},
     "output_type": "display_data"
    }
   ],
   "source": [
    "sns.displot(standardized_low_qual_hashtag, x=\"lowqual_pr2019_crowd\", hue=\"politics_hashtag\", \n",
    "            kind=\"kde\", fill=True, height=4, aspect=1.75, legend=False, palette=[\"red\", \"blue\"])\n",
    "plt.xlabel(\"Low-quality news sharing\")\n",
    "plt.ylabel(\"Frequency\")\n",
    "plt.legend(title=\"People who shared\", labels=[\"Trump hashtags\", \"Biden hashtags\"]) "
   ]
  },
  {
   "cell_type": "markdown",
   "id": "3282c25f",
   "metadata": {},
   "source": [
    "## Low-quality News Sharing on Twitter"
   ]
  },
  {
   "cell_type": "markdown",
   "id": "8e6dc15f",
   "metadata": {},
   "source": [
    "We create 2 dataframes with low quality news sharing data, one of the group of users who have shared #VoteBidenHarris2020 and another one with the ones that have shared #Trump2020."
   ]
  },
  {
   "cell_type": "code",
   "execution_count": 10,
   "id": "0474f61a",
   "metadata": {
    "scrolled": true
   },
   "outputs": [],
   "source": [
    "lowqual_df = df[['politics_hashtag', 'lowqual_pr2019_fc', 'lowqual_afm', 'lowqual_mbfc', \n",
    "                 'lowqual_lasser2019', 'lowqual_pr2019_crowd', 'lowqual_pr2019_crowdrep']]\n",
    "lowqual_biden = lowqual_df[lowqual_df['politics_hashtag'] == 0]\n",
    "lowqual_trump = lowqual_df[lowqual_df['politics_hashtag'] == 1]"
   ]
  },
  {
   "cell_type": "markdown",
   "id": "1333737d",
   "metadata": {},
   "source": [
    "We will perform an independent-samples one-tailed t-test since the groups come from two independent populations (users who tweet the hashtag #VoteBidenHarris2020 and users who tweet the #Trump2020) and we want to check whether the quality news sharing of one is worse than the other."
   ]
  },
  {
   "cell_type": "markdown",
   "id": "36e4890c",
   "metadata": {},
   "source": [
    "* Null hypothesis (H0): the low quality mean of tweets with #VoteBidenHarris2020 is greater than or equal to the one of #Trump2020.\n",
    "* Alternative hypothesis (HA): the low quality mean of tweets with #VoteBidenHarris2020 is less than the one of #Trump2020"
   ]
  },
  {
   "cell_type": "code",
   "execution_count": 11,
   "id": "5639d68f",
   "metadata": {},
   "outputs": [
    {
     "name": "stdout",
     "output_type": "stream",
     "text": [
      "                         T-statistic  P-value\n",
      "lowqual_pr2019_fc        -119.223343      0.0\n",
      "lowqual_afm              -102.677719      0.0\n",
      "lowqual_mbfc              -97.592231      0.0\n",
      "lowqual_lasser2019       -102.633746      0.0\n",
      "lowqual_pr2019_crowd     -102.464014      0.0\n",
      "lowqual_pr2019_crowdrep   -61.071485      0.0\n"
     ]
    }
   ],
   "source": [
    "#exclude first column (politics_hashtag) and perform t-tests on the rest\n",
    "t_stats, p_values = stats.ttest_ind(lowqual_biden.iloc[:, 1:], lowqual_trump.iloc[:, 1:], \n",
    "                                    axis=0, nan_policy='omit')\n",
    "\n",
    "results_df = pd.DataFrame({\n",
    "    'T-statistic': t_stats,\n",
    "    'P-value': p_values\n",
    "}, index=lowqual_biden.columns[1:])\n",
    "\n",
    "print(results_df)"
   ]
  },
  {
   "cell_type": "markdown",
   "id": "b6bb95c1",
   "metadata": {},
   "source": [
    "The p-value being close to 0 indicates that there is enough evidence to reject the null hypothesis that the low quality mean of tweets with #VoteBidenHarris2020 is greater than the mean of #Trump2020. The large value of (the absolute value of) the t-statistic shows that the difference between the two means is larger than what would be expected by random variation.\n",
    "<br> In other words, the quality of the tweets with #Trump2020 is far worse than the ones with #VoteBidenHarris2020."
   ]
  },
  {
   "cell_type": "markdown",
   "id": "c85394aa",
   "metadata": {},
   "source": [
    "The fact that the t-statistic of the sites rated by republicans (lowqual_pr2019_crowdrep) is not as large as the rest indicates that the republican participants didn't rate the quality of the sites of tweets with #Trump2020 as bad as all other participants."
   ]
  },
  {
   "cell_type": "code",
   "execution_count": 12,
   "id": "3886b2bc",
   "metadata": {},
   "outputs": [],
   "source": [
    "biden = lowqual_biden['lowqual_pr2019_fc']\n",
    "trump = lowqual_trump['lowqual_pr2019_fc']\n",
    "biden = biden.dropna()\n",
    "trump = trump.dropna()"
   ]
  },
  {
   "cell_type": "code",
   "execution_count": 13,
   "id": "4a05eedd",
   "metadata": {},
   "outputs": [],
   "source": [
    "data1 = lowqual_biden.iloc[:, 1:]\n",
    "data2 = lowqual_trump.iloc[:, 1:]"
   ]
  },
  {
   "cell_type": "code",
   "execution_count": 14,
   "id": "46b611cd",
   "metadata": {},
   "outputs": [
    {
     "name": "stdout",
     "output_type": "stream",
     "text": [
      "                    Column  Cohen's d  Hedges' g\n",
      "0        lowqual_pr2019_fc  -2.521188  -2.520977\n",
      "1              lowqual_afm  -2.164878  -2.164698\n",
      "2             lowqual_mbfc  -2.057540  -2.057369\n",
      "3       lowqual_lasser2019  -2.163831  -2.163650\n",
      "4     lowqual_pr2019_crowd  -2.166782  -2.166601\n",
      "5  lowqual_pr2019_crowdrep  -1.291464  -1.291356\n"
     ]
    }
   ],
   "source": [
    "cohens_d_values = []\n",
    "hedges_g_values = []\n",
    "\n",
    "for col1, col2 in zip(data1.columns, data2.columns):\n",
    "    #data of the current column pair\n",
    "    col_data1 = data1[col1].dropna()\n",
    "    col_data2 = data2[col2].dropna()\n",
    "    \n",
    "    #sample sizes\n",
    "    n1 = len(col_data1)\n",
    "    n2 = len(col_data2)\n",
    "    \n",
    "    #means and standard deviations\n",
    "    mean1 = col_data1.mean()\n",
    "    mean2 = col_data2.mean()\n",
    "    std1 = col_data1.std(ddof=1)\n",
    "    std2 = col_data2.std(ddof=1)\n",
    "    \n",
    "    #pooled standard deviation\n",
    "    pooled_std = math.sqrt(((std1 ** 2) * (n1 - 1) + (std2 ** 2) * (n2 - 1)) / (n1 + n2 - 2))\n",
    "    \n",
    "    #cohen's d\n",
    "    cohens_d = (mean1 - mean2) / pooled_std\n",
    "    cohens_d_values.append(cohens_d)\n",
    "    \n",
    "    #hedges' g\n",
    "    hedges_correction = 1 - (3 / (4 * (n1 + n2) - 9))\n",
    "    hedges_g = cohens_d * hedges_correction\n",
    "    hedges_g_values.append(hedges_g)\n",
    "\n",
    "results = pd.DataFrame({\n",
    "    'Column': data1.columns,\n",
    "    'Cohen\\'s d': cohens_d_values,\n",
    "    'Hedges\\' g': hedges_g_values\n",
    "})\n",
    "\n",
    "print(results)"
   ]
  },
  {
   "cell_type": "markdown",
   "id": "b360ba06",
   "metadata": {},
   "source": [
    "The Cohen's d metric being greater than 1.2 and in most cases greater than 2 indicates that the difference of the means of the two groups is extremely large. <br>\n",
    "Same goes with the Hedge's g value that is almost the same as the Cohen's d, indicating again that the difference is very large."
   ]
  },
  {
   "cell_type": "markdown",
   "id": "0fe53b16",
   "metadata": {},
   "source": [
    "### Sharing Lower-quality News Sources and Conservative Ideology"
   ]
  },
  {
   "cell_type": "markdown",
   "id": "9bb3127a",
   "metadata": {},
   "source": [
    "We first drop the rows with NaN values."
   ]
  },
  {
   "cell_type": "code",
   "execution_count": 15,
   "id": "cc04f91e",
   "metadata": {},
   "outputs": [],
   "source": [
    "d = df[['lowqual_pr2019_fc', 'lowqual_lasser2019', 'lowqual_mbfc',\n",
    "        'lowqual_afm', 'lowqual_pr2019_crowd', 'lowqual_pr2019_crowdrep', \n",
    "        'politics_followed', 'politics_hashtag', 'politics_sites1', 'politics_sites2']]\n",
    "d = d.dropna()"
   ]
  },
  {
   "cell_type": "markdown",
   "id": "c62c7c2c",
   "metadata": {},
   "source": [
    "Pairwise correlation requires the data to be normally distributed.<br> In order to check whether it is, we will perform a Shapiro-Wilk Test first on the low quality columns and then on the politics ones."
   ]
  },
  {
   "cell_type": "markdown",
   "id": "662d35b1",
   "metadata": {},
   "source": [
    "* Null hypothesis (H0): the sample stems from a normal distribution (Po>0.05)\n",
    "* Alternative hypothesis (HA): the sample doesn't stem from a normal distribution"
   ]
  },
  {
   "cell_type": "code",
   "execution_count": 16,
   "id": "48b6b097",
   "metadata": {
    "scrolled": true
   },
   "outputs": [
    {
     "name": "stdout",
     "output_type": "stream",
     "text": [
      "lowqual_pr2019_fc          0.000000e+00\n",
      "lowqual_lasser2019         0.000000e+00\n",
      "lowqual_mbfc               0.000000e+00\n",
      "lowqual_afm                0.000000e+00\n",
      "lowqual_pr2019_crowd       0.000000e+00\n",
      "lowqual_pr2019_crowdrep    4.063215e-39\n",
      "politics_followed          0.000000e+00\n",
      "politics_hashtag           0.000000e+00\n",
      "politics_sites1            0.000000e+00\n",
      "politics_sites2            0.000000e+00\n",
      "dtype: float64\n"
     ]
    },
    {
     "name": "stderr",
     "output_type": "stream",
     "text": [
      "/opt/anaconda3/lib/python3.11/site-packages/scipy/stats/_morestats.py:1882: UserWarning: p-value may not be accurate for N > 5000.\n",
      "  warnings.warn(\"p-value may not be accurate for N > 5000.\")\n"
     ]
    }
   ],
   "source": [
    "shapiro_pvalue = d.apply(lambda x: shapiro(x)[1])\n",
    "print(shapiro_pvalue)"
   ]
  },
  {
   "cell_type": "markdown",
   "id": "d7b74fee",
   "metadata": {},
   "source": [
    "The p-values are 0 (or close to zero) which is less than the threshold (0.05), so we accept the null hypothesis that the sample doesn't come from a normal distribution."
   ]
  },
  {
   "cell_type": "markdown",
   "id": "16861c17",
   "metadata": {},
   "source": [
    "We will perform the Min-max normalization on all the columns. The politics_hashtag column will stay the same after the scaling since its values are only 0 and 1."
   ]
  },
  {
   "cell_type": "code",
   "execution_count": 17,
   "id": "af8f0654",
   "metadata": {},
   "outputs": [],
   "source": [
    "scaler = MinMaxScaler()\n",
    "scaled_df = scaler.fit_transform(d)\n",
    "scaled_df = pd.DataFrame(scaled_df, columns=d.columns)"
   ]
  },
  {
   "cell_type": "markdown",
   "id": "1ea8a564",
   "metadata": {},
   "source": [
    "Then we perform Pearson pairwise correlations between the different low quality rates and the political ideology."
   ]
  },
  {
   "cell_type": "code",
   "execution_count": 18,
   "id": "de9f8f1f",
   "metadata": {
    "scrolled": true
   },
   "outputs": [
    {
     "name": "stdout",
     "output_type": "stream",
     "text": [
      "Y                        politics_followed  politics_hashtag  politics_sites1  \\\n",
      "X                                                                               \n",
      "lowqual_pr2019_fc                 0.809501          0.834399         0.881741   \n",
      "lowqual_lasser2019                0.778608          0.789910         0.847847   \n",
      "lowqual_mbfc                      0.751176          0.764296         0.795237   \n",
      "lowqual_afm                       0.770694          0.790923         0.852068   \n",
      "lowqual_pr2019_crowd              0.754001          0.783704         0.818824   \n",
      "lowqual_pr2019_crowdrep           0.540993          0.580989         0.582345   \n",
      "\n",
      "Y                        politics_sites2  \n",
      "X                                         \n",
      "lowqual_pr2019_fc               0.860975  \n",
      "lowqual_lasser2019              0.863775  \n",
      "lowqual_mbfc                    0.794058  \n",
      "lowqual_afm                     0.841501  \n",
      "lowqual_pr2019_crowd            0.793501  \n",
      "lowqual_pr2019_crowdrep         0.560976  \n"
     ]
    }
   ],
   "source": [
    "#compute correlation between the two groups\n",
    "correlation_results = pg.pairwise_corr(scaled_df, columns=[['lowqual_pr2019_fc', 'lowqual_lasser2019', \n",
    "                                                            'lowqual_mbfc','lowqual_afm', 'lowqual_pr2019_crowd', \n",
    "                                                            'lowqual_pr2019_crowdrep'], None], method='pearson')\n",
    "\n",
    "results = correlation_results[['X','Y','r']]\n",
    "\n",
    "corr_matrix = results.pivot(index='X', columns='Y', values='r')\n",
    "corr_matrix = corr_matrix.reindex(['lowqual_pr2019_fc', 'lowqual_lasser2019', 'lowqual_mbfc', \n",
    "                                   'lowqual_afm', 'lowqual_pr2019_crowd', 'lowqual_pr2019_crowdrep'])\n",
    "print(corr_matrix)"
   ]
  },
  {
   "cell_type": "markdown",
   "id": "0d2069c0",
   "metadata": {},
   "source": [
    "Lastly we display the results in a heatmap."
   ]
  },
  {
   "cell_type": "code",
   "execution_count": 19,
   "id": "34425f69",
   "metadata": {
    "scrolled": false
   },
   "outputs": [
    {
     "data": {
      "text/plain": [
       "Text(50.5815972222222, 0.5, '')"
      ]
     },
     "execution_count": 19,
     "metadata": {},
     "output_type": "execute_result"
    },
    {
     "data": {
      "image/png": "[encoded data removed]",
      "text/plain": [
       "<Figure size 640x480 with 2 Axes>"
      ]
     },
     "metadata": {},
     "output_type": "display_data"
    }
   ],
   "source": [
    "sns.heatmap(corr_matrix, annot=True, cmap=\"crest\")\n",
    "plt.xticks(rotation=30, ha='center')\n",
    "plt.xlabel('')\n",
    "plt.ylabel('') "
   ]
  },
  {
   "cell_type": "markdown",
   "id": "a524461d",
   "metadata": {},
   "source": [
    "## News Sharing Can Help Explain Suspension, Using Single Predictors"
   ]
  },
  {
   "cell_type": "code",
   "execution_count": 20,
   "id": "dae0b5d7",
   "metadata": {},
   "outputs": [],
   "source": [
    "d = df[[\"politics_hashtag\", \"politics_sites1\", \"politics_sites2\", \n",
    "    \"politics_followed\", \"lowqual_afm\", \"lowqual_mbfc\", \n",
    "    \"lowqual_lasser2019\", \"lowqual_pr2019_fc\", \"lowqual_pr2019_crowd\", \"suspended\"]].dropna()"
   ]
  },
  {
   "cell_type": "markdown",
   "id": "f724d446",
   "metadata": {},
   "source": [
    "We first fit the probit model to each predictor and compute the AUC."
   ]
  },
  {
   "cell_type": "code",
   "execution_count": 21,
   "id": "82bc9ac7",
   "metadata": {},
   "outputs": [],
   "source": [
    "def fit_probit_and_calc_auc(X, y):\n",
    "    model = Probit(y, add_constant(X)).fit(disp=0)  # Add constant for intercept\n",
    "    y_pred = model.predict(add_constant(X))        # Predict probabilities\n",
    "    fpr, tpr, _ = roc_curve(y, y_pred)\n",
    "    return auc(fpr, tpr)"
   ]
  },
  {
   "cell_type": "markdown",
   "id": "e5987d30",
   "metadata": {},
   "source": [
    "We bootstrap a resampling to estimate the AUC variability and we repeat 100 times to calculate the confidence intervals."
   ]
  },
  {
   "cell_type": "code",
   "execution_count": 22,
   "id": "95822b33",
   "metadata": {},
   "outputs": [],
   "source": [
    "def bootstrap_auc(X, y, n_bootstraps=100, seed=42):\n",
    "    rng = np.random.default_rng(seed)\n",
    "    auc_scores = []\n",
    "\n",
    "    for i in range(n_bootstraps):\n",
    "        # Bootstrap resample\n",
    "        X_resampled, y_resampled = resample(X, y, random_state=rng.integers(0, 10000))\n",
    "        try:\n",
    "            auc_score = fit_probit_and_calc_auc(X_resampled, y_resampled)\n",
    "            auc_scores.append(auc_score)\n",
    "        except Exception as e:\n",
    "            print(f\"Bootstrap {i} failed: {e}\")\n",
    "\n",
    "    # Confidence intervals\n",
    "    lower_ci = np.percentile(auc_scores, 2.5)\n",
    "    upper_ci = np.percentile(auc_scores, 97.5)\n",
    "    mean_auc = np.mean(auc_scores)\n",
    "    return mean_auc, lower_ci, upper_ci"
   ]
  },
  {
   "cell_type": "markdown",
   "id": "f396fdda",
   "metadata": {},
   "source": [
    "We loop through this process for each predictor."
   ]
  },
  {
   "cell_type": "code",
   "execution_count": 23,
   "id": "646b5b1b",
   "metadata": {
    "scrolled": true
   },
   "outputs": [
    {
     "name": "stdout",
     "output_type": "stream",
     "text": [
      "              Predictor  Mean AUC  CI Lower  CI Upper\n",
      "0      politics_hashtag  0.697621  0.685142  0.710709\n",
      "1       politics_sites1  0.716368  0.702715  0.732310\n",
      "2       politics_sites2  0.722328  0.709458  0.737152\n",
      "3     politics_followed  0.715483  0.699164  0.731315\n",
      "4           lowqual_afm  0.734562  0.720304  0.748879\n",
      "5          lowqual_mbfc  0.722609  0.707485  0.737129\n",
      "6    lowqual_lasser2019  0.722574  0.707236  0.737675\n",
      "7     lowqual_pr2019_fc  0.715387  0.700428  0.728416\n",
      "8  lowqual_pr2019_crowd  0.702268  0.684874  0.715770\n"
     ]
    }
   ],
   "source": [
    "results = []\n",
    "\n",
    "predictors = [\n",
    "    \"politics_hashtag\", \"politics_sites1\", \"politics_sites2\", \n",
    "    \"politics_followed\", \"lowqual_afm\", \"lowqual_mbfc\", \n",
    "    \"lowqual_lasser2019\", \"lowqual_pr2019_fc\", \"lowqual_pr2019_crowd\"\n",
    "]\n",
    "for predictor in predictors:\n",
    "    X_single = d[[predictor]]\n",
    "    y = d[\"suspended\"]\n",
    "    mean_auc, lower_ci, upper_ci = bootstrap_auc(X_single, y)\n",
    "    results.append({\n",
    "        \"Predictor\": predictor,\n",
    "        \"Mean AUC\": mean_auc,\n",
    "        \"CI Lower\": lower_ci,\n",
    "        \"CI Upper\": upper_ci\n",
    "    })\n",
    "\n",
    "results_df = pd.DataFrame(results)\n",
    "\n",
    "print(results_df)"
   ]
  },
  {
   "cell_type": "markdown",
   "id": "e8144997",
   "metadata": {},
   "source": [
    "We create the plot that shows all our evaluations and the confidence intervals."
   ]
  },
  {
   "cell_type": "code",
   "execution_count": 24,
   "id": "0aa93cca",
   "metadata": {},
   "outputs": [
    {
     "data": {
      "image/png": "[encoded data removed]",
      "text/plain": [
       "<Figure size 900x500 with 1 Axes>"
      ]
     },
     "metadata": {},
     "output_type": "display_data"
    }
   ],
   "source": [
    "# Compute error margins\n",
    "results_df['Error Lower'] = results_df['Mean AUC'] - results_df['CI Lower']\n",
    "results_df['Error Upper'] = results_df['CI Upper'] - results_df['Mean AUC']\n",
    "\n",
    "# Rename labels for x-axis\n",
    "rename_dict = {\n",
    "    \"politics_hashtag\": \"Hashtag\\nshared\",\n",
    "    \"politics_sites1\": \"News\\nsites\\nshared 1\",\n",
    "    \"politics_sites2\": \"News\\nsites\\nshared 2\",\n",
    "    \"politics_followed\": \"Accounts\\nfollowed\",\n",
    "    \"lowqual_afm\": \"AFM\\nratings\",\n",
    "    \"lowqual_mbfc\": \"MFBC\\nratings\",\n",
    "    \"lowqual_lasser2019\": \"Lasser\\nratings\",\n",
    "    \"lowqual_pr2019_fc\": \"Fact-\\nchecker\\nratings\",\n",
    "    \"lowqual_pr2019_crowd\": \"Layperson\\nratings\"\n",
    "}\n",
    "new_labels = [rename_dict[label] for label in results_df['Predictor']]\n",
    "\n",
    "# Assign colors by class\n",
    "classes = {\n",
    "    \"Political Orientation\": [\"politics_hashtag\", \"politics_sites1\", \"politics_sites2\", \"politics_followed\"],\n",
    "    \"Low-quality News Sharing\": [\"lowqual_afm\", \"lowqual_mbfc\", \"lowqual_lasser2019\", \n",
    "                                 \"lowqual_pr2019_fc\", \"lowqual_pr2019_crowd\"]\n",
    "}\n",
    "\n",
    "# Update lowqual_afm to be green (Low-quality News Sharing)\n",
    "colors = results_df['Predictor'].apply(\n",
    "    lambda x: \"purple\" if x in classes[\"Political Orientation\"] else \"green\"\n",
    ")\n",
    "\n",
    "# Plotting\n",
    "plt.figure(figsize=(9, 5))\n",
    "bars = plt.bar(\n",
    "    x=np.arange(len(results_df)), \n",
    "    height=results_df['Mean AUC'], \n",
    "    yerr=[results_df['Error Lower'].values, results_df['Error Upper'].values], \n",
    "    capsize=5, \n",
    "    color=colors,  # Set color based on the classes\n",
    "    width=0.5,\n",
    "    edgecolor='black'\n",
    ")\n",
    "\n",
    "# Customize y-axis\n",
    "plt.ylim(0.50, 0.80)  # Set y-axis range\n",
    "plt.yticks([0.50, 0.55, 0.60, 0.65, 0.70, 0.75, 0.80])  # Define tick marks\n",
    "\n",
    "# Add legend\n",
    "for label, color in zip(classes.keys(), [\"purple\", \"green\"]):\n",
    "    plt.bar(0, 0, color=color, label=label)  # Dummy bars for legend\n",
    "plt.legend(title=\"Classes\", loc=\"upper right\")\n",
    "\n",
    "# Set the wrapped labels for the x-axis\n",
    "plt.xticks(ticks=np.arange(len(results_df['Predictor'])), labels=new_labels)\n",
    "\n",
    "plt.tight_layout()\n",
    "plt.show()"
   ]
  },
  {
   "cell_type": "markdown",
   "id": "887ab55d",
   "metadata": {},
   "source": [
    "## News Sharing Can Help Explain Suspension, Using Multiple Predictors"
   ]
  },
  {
   "cell_type": "markdown",
   "id": "88bd36ee",
   "metadata": {},
   "source": [
    "We fill in missing values of the dataframe using the mean of each column."
   ]
  },
  {
   "cell_type": "code",
   "execution_count": 25,
   "id": "ccea7eda",
   "metadata": {},
   "outputs": [],
   "source": [
    "df_filled = df.fillna(df.mean())"
   ]
  },
  {
   "cell_type": "markdown",
   "id": "86e04eae",
   "metadata": {},
   "source": [
    "We log-transform with base 10 the variables related to Tweeter metrics."
   ]
  },
  {
   "cell_type": "code",
   "execution_count": 26,
   "id": "1d4187b9",
   "metadata": {
    "scrolled": false
   },
   "outputs": [
    {
     "name": "stderr",
     "output_type": "stream",
     "text": [
      "/opt/anaconda3/lib/python3.11/site-packages/pandas/core/arraylike.py:399: RuntimeWarning: divide by zero encountered in log10\n",
      "  result = getattr(ufunc, method)(*inputs, **kwargs)\n",
      "/opt/anaconda3/lib/python3.11/site-packages/pandas/core/arraylike.py:399: RuntimeWarning: divide by zero encountered in log10\n",
      "  result = getattr(ufunc, method)(*inputs, **kwargs)\n",
      "/opt/anaconda3/lib/python3.11/site-packages/pandas/core/arraylike.py:399: RuntimeWarning: divide by zero encountered in log10\n",
      "  result = getattr(ufunc, method)(*inputs, **kwargs)\n"
     ]
    }
   ],
   "source": [
    "df_filled['log_repeated_tweet_count'] = np.where(df_filled['repeated_tweet_count'] > 0, \n",
    "                                            np.log10(df_filled['repeated_tweet_count']), \n",
    "                                            df_filled['repeated_tweet_count'])\n",
    "df_filled['log_freq_pr_1h'] = np.where(df_filled['freq_pr_1h'] > 0, np.log10(df_filled['freq_pr_1h']), \n",
    "                                       df_filled['freq_pr_1h'])\n",
    "df_filled['log_num_followers'] = np.where(df_filled['num_followers'] > 0, np.log10(df_filled['num_followers']), \n",
    "                                          df_filled['num_followers'])\n",
    "df_filled['log_num_friends'] = np.where(df_filled['num_friends'] > 0, np.log10(df_filled['num_friends']), \n",
    "                                        df_filled['num_friends'])"
   ]
  },
  {
   "cell_type": "markdown",
   "id": "30ee62f9",
   "metadata": {},
   "source": [
    "We compute the ratio of num_friends to num_followers, adding 1 to both variables to avoid zero or negative values.<br> We then apply the base 10 logarithm to the ratio and store the result in the new column log_fol."
   ]
  },
  {
   "cell_type": "code",
   "execution_count": 27,
   "id": "eeb44c48",
   "metadata": {},
   "outputs": [],
   "source": [
    "df_filled['log_fol'] = np.log10((df_filled['num_friends'] + 1) / (df_filled['num_followers'] + 1))"
   ]
  },
  {
   "cell_type": "markdown",
   "id": "376b51b0",
   "metadata": {},
   "source": [
    "We winsorize the following variables from both sides at the top 1% in order to reduce the effect of the outliers."
   ]
  },
  {
   "cell_type": "code",
   "execution_count": 28,
   "id": "c2f997f2",
   "metadata": {},
   "outputs": [],
   "source": [
    "vars_to_winsorize = ['valence_neg', 'valence_neu', 'valence_pos', 'barbera_std', 'politics_sites1_std', \n",
    "                     'politics_sites2_ideo_std']\n",
    "df_filled[vars_to_winsorize] = df_filled[vars_to_winsorize].apply(lambda x: mstats.winsorize \\\n",
    "                                                                  (x, limits=[0.01, 0.01]))\n"
   ]
  },
  {
   "cell_type": "markdown",
   "id": "bd0e94d8",
   "metadata": {},
   "source": [
    "We winsorize the following variables only at the upper side at the top 1%."
   ]
  },
  {
   "cell_type": "code",
   "execution_count": 29,
   "id": "624a2592",
   "metadata": {},
   "outputs": [],
   "source": [
    "vars_to_winsorize = ['moral_outrage', 'rewire_abuse', 'rewire_hate', 'rewire_profanity', 'rewire_violent', \n",
    "           'rewire_sexually_explicit', 'jigsaw_toxicity', 'jigsaw_severe_toxicity', \n",
    "           'jigsaw_idenity_attack', 'jigsaw_insult', 'jigsaw_profanity', 'jigsaw_threat']\n",
    "df_filled[vars_to_winsorize] = df_filled[vars_to_winsorize].apply(lambda x: mstats.winsorize(x, limits=[0, 0.01]))"
   ]
  },
  {
   "cell_type": "markdown",
   "id": "9b98b57a",
   "metadata": {},
   "source": [
    "Prior to PCA, we standardize the data because PCA is sensitive to the variances of the initial variables."
   ]
  },
  {
   "cell_type": "code",
   "execution_count": 30,
   "id": "8e822338",
   "metadata": {},
   "outputs": [],
   "source": [
    "lowqual_columns = ['lowqual_pr2019_fc', 'lowqual_afm', 'lowqual_lasser2019', 'lowqual_mbfc']\n",
    "\n",
    "scaler = StandardScaler()\n",
    "lowqual_data = df_filled[lowqual_columns]\n",
    "lowqual_data_scaled = scaler.fit_transform(lowqual_data)"
   ]
  },
  {
   "cell_type": "markdown",
   "id": "ec95f943",
   "metadata": {},
   "source": [
    "We apply PCA to the standardized data, print out the explained variance ratio and then project the low quality news sharing dimensions to the new dimension: pc1_misinfo."
   ]
  },
  {
   "cell_type": "code",
   "execution_count": 31,
   "id": "07c46f43",
   "metadata": {},
   "outputs": [
    {
     "name": "stdout",
     "output_type": "stream",
     "text": [
      "explained variance ratio: [0.87255953]\n",
      "   pc1_misinfo\n",
      "0    -1.643266\n",
      "1     3.919070\n",
      "2    -2.290660\n",
      "3    -1.643703\n",
      "4     2.426475\n"
     ]
    }
   ],
   "source": [
    "pca = PCA(n_components=1)\n",
    "pc1_misinfo = pca.fit_transform(lowqual_data_scaled)\n",
    "\n",
    "print(\"explained variance ratio:\", pca.explained_variance_ratio_)\n",
    "\n",
    "df_filled['pc1_misinfo'] = pc1_misinfo\n",
    "print(df_filled[['pc1_misinfo']].head())"
   ]
  },
  {
   "cell_type": "markdown",
   "id": "7883d6f0",
   "metadata": {},
   "source": [
    "For the political orientation variables, prior to PCA again, we standardize the data."
   ]
  },
  {
   "cell_type": "code",
   "execution_count": 32,
   "id": "6315ec56",
   "metadata": {},
   "outputs": [],
   "source": [
    "politics_columns = ['politics_hashtag', 'politics_followed', 'politics_sites1', 'politics_sites2']\n",
    "\n",
    "scaler = StandardScaler()\n",
    "politics_data_scaled = scaler.fit_transform(df_filled[politics_columns])"
   ]
  },
  {
   "cell_type": "markdown",
   "id": "d868ff49",
   "metadata": {},
   "source": [
    "We apply PCA to the standardized data, print out the explained variance ratio, calculate the absolute value of pc1_politics ('extremity') and then project the politics orientation dimensions to pc1_politics and extermity."
   ]
  },
  {
   "cell_type": "code",
   "execution_count": 33,
   "id": "220d51fb",
   "metadata": {},
   "outputs": [
    {
     "name": "stdout",
     "output_type": "stream",
     "text": [
      "explained variance ratio: [0.87952937]\n",
      "   pc1_politics  extremity\n",
      "0     -1.841564   1.841564\n",
      "1      2.264580   2.264580\n",
      "2     -2.105501   2.105501\n",
      "3     -1.836106   1.836106\n",
      "4      2.648512   2.648512\n"
     ]
    }
   ],
   "source": [
    "pca = PCA(n_components=1)\n",
    "pc1_politics = pca.fit_transform(politics_data_scaled)\n",
    "\n",
    "print(\"explained variance ratio:\", pca.explained_variance_ratio_)\n",
    "\n",
    "df_filled['pc1_politics'] = pc1_politics\n",
    "\n",
    "df_filled['extremity'] = df_filled['pc1_politics'].abs()\n",
    "print(df_filled[['pc1_politics', 'extremity']].head())"
   ]
  },
  {
   "cell_type": "markdown",
   "id": "d98cdae8",
   "metadata": {},
   "source": [
    "We repeat the same steps with the following variables producing pc1_fol."
   ]
  },
  {
   "cell_type": "code",
   "execution_count": 34,
   "id": "f6b61215",
   "metadata": {},
   "outputs": [
    {
     "name": "stdout",
     "output_type": "stream",
     "text": [
      "Explained variance ratio: [0.70390996]\n",
      "    pc1_fol\n",
      "0 -1.362274\n",
      "1 -0.692696\n",
      "2 -1.639964\n",
      "3  3.316730\n",
      "4 -0.583205\n"
     ]
    }
   ],
   "source": [
    "fol_columns = ['log_num_followers', 'log_num_friends', 'log_fol']\n",
    "\n",
    "scaler = StandardScaler()\n",
    "fol_data_scaled = scaler.fit_transform(df_filled[fol_columns])\n",
    "\n",
    "pca = PCA(n_components=1)\n",
    "pc1_fol = pca.fit_transform(fol_data_scaled)\n",
    "\n",
    "print(\"Explained variance ratio:\", pca.explained_variance_ratio_)\n",
    "\n",
    "df_filled['pc1_fol'] = pc1_fol\n",
    "print(df_filled[['pc1_fol']].head())"
   ]
  },
  {
   "cell_type": "markdown",
   "id": "b0c482c6",
   "metadata": {},
   "source": [
    "Regarding the harmful language variables, we will divide them into these 3 components:\n",
    "* Abuse and Hate Speech: related to verbal abuse, hate speech, and harmful language targeted at individuals or groups<br>\n",
    "rewire_abuse, rewire_hate, jigsaw_identity_attack, jigsaw_insult\n",
    "* Profanity: profane language and insults that may not necessarily be hateful or abusive in a targeted way but still cause harm or disruption<br>\n",
    "rewire_profanity, jigsaw_profanity\n",
    "* Violence and Threats: more extreme forms of harmful language<br>\n",
    "rewire_violent, rewire_sexually_explicit, jigsaw_threat, jigsaw_severe_toxicity"
   ]
  },
  {
   "cell_type": "markdown",
   "id": "d45b5530",
   "metadata": {},
   "source": [
    "We repeat the same steps with the variables of the 3 components (pc1_harmful_language, pc2_harmful_language, pc3_harmful_language)."
   ]
  },
  {
   "cell_type": "code",
   "execution_count": 35,
   "id": "1d643fd2",
   "metadata": {},
   "outputs": [
    {
     "name": "stdout",
     "output_type": "stream",
     "text": [
      "Explained Variance Ratio: [0.70726106]\n",
      "   pc1_harmful_language\n",
      "0              2.084774\n",
      "1              0.730039\n",
      "2              1.380253\n",
      "3              1.550408\n",
      "4             -1.008364\n"
     ]
    }
   ],
   "source": [
    "#pc1_harmful_language\n",
    "harmful_language_columns = ['rewire_abuse', 'rewire_hate', 'jigsaw_idenity_attack', 'jigsaw_insult', \n",
    "                            'rewire_profanity', 'jigsaw_profanity', 'rewire_violent', 'rewire_sexually_explicit', \n",
    "                            'jigsaw_threat', 'jigsaw_severe_toxicity']\n",
    "\n",
    "scaler = StandardScaler()\n",
    "harmful_language_data_scaled = scaler.fit_transform(df_filled[harmful_language_columns[:4]])\n",
    "\n",
    "pca = PCA(n_components=1)\n",
    "pc1_harmful_language = pca.fit_transform(harmful_language_data_scaled)\n",
    "\n",
    "print(\"Explained Variance Ratio:\", pca.explained_variance_ratio_)\n",
    "\n",
    "df_filled['pc1_harmful_language'] = pc1_harmful_language\n",
    "print(df_filled[['pc1_harmful_language']].head())"
   ]
  },
  {
   "cell_type": "code",
   "execution_count": 36,
   "id": "4a103e6f",
   "metadata": {},
   "outputs": [
    {
     "name": "stdout",
     "output_type": "stream",
     "text": [
      "Explained Variance Ratio: [0.85674641]\n",
      "   pc2_harmful_language\n",
      "0              1.269029\n",
      "1             -1.189528\n",
      "2              1.503134\n",
      "3              1.271417\n",
      "4             -1.296354\n"
     ]
    }
   ],
   "source": [
    "#pc2_harmful_language\n",
    "scaler = StandardScaler()\n",
    "harmful_language_data_scaled = scaler.fit_transform(df_filled[harmful_language_columns[4:6]])\n",
    "\n",
    "pca = PCA(n_components=1)\n",
    "pc2_harmful_language = pca.fit_transform(harmful_language_data_scaled)\n",
    "\n",
    "print(\"Explained Variance Ratio:\", pca.explained_variance_ratio_)\n",
    "\n",
    "df_filled['pc2_harmful_language'] = pc2_harmful_language\n",
    "print(df_filled[['pc2_harmful_language']].head())"
   ]
  },
  {
   "cell_type": "code",
   "execution_count": 37,
   "id": "81170de1",
   "metadata": {},
   "outputs": [
    {
     "name": "stdout",
     "output_type": "stream",
     "text": [
      "Explained Variance Ratio: [0.54014363]\n",
      "   pc3_harmful_language\n",
      "0             -0.115481\n",
      "1              2.389359\n",
      "2             -0.155135\n",
      "3              0.481273\n",
      "4             -1.324375\n"
     ]
    }
   ],
   "source": [
    "#pc3_harmful_language\n",
    "scaler = StandardScaler()\n",
    "harmful_language_data_scaled = scaler.fit_transform(df_filled[harmful_language_columns[-4:]])\n",
    "\n",
    "pca = PCA(n_components=1)\n",
    "pc3_harmful_language = pca.fit_transform(harmful_language_data_scaled)\n",
    "\n",
    "print(\"Explained Variance Ratio:\", pca.explained_variance_ratio_)\n",
    "\n",
    "df_filled['pc3_harmful_language'] = pc3_harmful_language\n",
    "print(df_filled[['pc3_harmful_language']].head())"
   ]
  },
  {
   "cell_type": "markdown",
   "id": "34bc291b",
   "metadata": {},
   "source": [
    "We repeat the same steps with the following variables producing pc1_valence."
   ]
  },
  {
   "cell_type": "code",
   "execution_count": 38,
   "id": "178c1e9a",
   "metadata": {},
   "outputs": [
    {
     "name": "stdout",
     "output_type": "stream",
     "text": [
      "Explained Variance Ratio [0.7079432]\n",
      "   pc1_valence\n",
      "0    -1.030499\n",
      "1    -1.833775\n",
      "2    -0.796028\n",
      "3    -2.321373\n",
      "4     1.005676\n"
     ]
    }
   ],
   "source": [
    "valence_columns = ['valence_neg', 'valence_neu', 'valence_pos']\n",
    "\n",
    "scaler = StandardScaler()\n",
    "valence_data_scaled = scaler.fit_transform(df_filled[valence_columns])\n",
    "\n",
    "pca = PCA(n_components=1)\n",
    "pc1_valence = pca.fit_transform(valence_data_scaled)\n",
    "\n",
    "print(\"Explained Variance Ratio\", pca.explained_variance_ratio_)\n",
    "\n",
    "df_filled['pc1_valence'] = pc1_valence\n",
    "\n",
    "print(df_filled[['pc1_valence']].head())"
   ]
  },
  {
   "cell_type": "markdown",
   "id": "ab0c2685",
   "metadata": {},
   "source": [
    "We normalize the following independent variables by taking their z-scores."
   ]
  },
  {
   "cell_type": "code",
   "execution_count": 39,
   "id": "7a12fecb",
   "metadata": {},
   "outputs": [],
   "source": [
    "variables_to_normalize = [\n",
    "    'pc1_politics', 'pc1_misinfo', 'pc1_fol',\n",
    "    'pc1_harmful_language', 'pc2_harmful_language', 'pc3_harmful_language',\n",
    "    'pc1_valence', 'tweets_in_2wk', 'botsentinel_score', 'extremity',\n",
    "    'moral_outrage', 'liwc_political', 'log_freq_pr_1h',\n",
    "    'log_repeated_tweet_count', 'barbera_std', 'politics_sites1_std', 'politics_sites2_ideo_std'\n",
    "]\n",
    "\n",
    "df_filled[variables_to_normalize] = df_filled[variables_to_normalize].apply(\n",
    "    lambda x: (x - x.mean()) / x.std(), axis=0\n",
    ")"
   ]
  },
  {
   "cell_type": "markdown",
   "id": "7272fe40",
   "metadata": {},
   "source": [
    "### Probit regression"
   ]
  },
  {
   "cell_type": "markdown",
   "id": "f2b15ba8",
   "metadata": {},
   "source": [
    "We will perform probit regression to predict the variable suspended using all the variables/components we prepared."
   ]
  },
  {
   "cell_type": "code",
   "execution_count": 40,
   "id": "b5ef9181",
   "metadata": {},
   "outputs": [
    {
     "name": "stdout",
     "output_type": "stream",
     "text": [
      "Optimization terminated successfully.\n",
      "         Current function value: 0.303330\n",
      "         Iterations 7\n",
      "                          Probit Regression Results                           \n",
      "==============================================================================\n",
      "Dep. Variable:              suspended   No. Observations:                 9000\n",
      "Model:                         Probit   Df Residuals:                     8982\n",
      "Method:                           MLE   Df Model:                           17\n",
      "Date:                Sun, 08 Dec 2024   Pseudo R-squ.:                  0.1743\n",
      "Time:                        23:14:22   Log-Likelihood:                -2730.0\n",
      "converged:                       True   LL-Null:                       -3306.3\n",
      "Covariance Type:            nonrobust   LLR p-value:                1.838e-234\n",
      "============================================================================================\n",
      "                               coef    std err          z      P>|z|      [0.025      0.975]\n",
      "--------------------------------------------------------------------------------------------\n",
      "const                       -1.4244      0.023    -61.167      0.000      -1.470      -1.379\n",
      "pc1_politics                 0.1414      0.053      2.675      0.007       0.038       0.245\n",
      "pc1_misinfo                  0.2391      0.046      5.153      0.000       0.148       0.330\n",
      "pc1_fol                      0.0025      0.021      0.121      0.904      -0.038       0.044\n",
      "pc1_harmful_language        -0.0227      0.037     -0.621      0.535      -0.094       0.049\n",
      "pc2_harmful_language         0.1339      0.027      4.947      0.000       0.081       0.187\n",
      "pc3_harmful_language         0.0807      0.029      2.760      0.006       0.023       0.138\n",
      "pc1_valence                  0.0370      0.022      1.657      0.097      -0.007       0.081\n",
      "tweets_in_2wk                0.3308      0.021     15.959      0.000       0.290       0.371\n",
      "botsentinel_score            0.1870      0.037      5.007      0.000       0.114       0.260\n",
      "extremity                   -0.1195      0.023     -5.283      0.000      -0.164      -0.075\n",
      "moral_outrage                0.0404      0.032      1.277      0.201      -0.022       0.102\n",
      "liwc_political              -0.0391      0.028     -1.383      0.167      -0.094       0.016\n",
      "log_freq_pr_1h               0.1268      0.023      5.521      0.000       0.082       0.172\n",
      "log_repeated_tweet_count    -0.0006      0.023     -0.026      0.979      -0.045       0.044\n",
      "barbera_std                 -0.0329      0.024     -1.387      0.166      -0.079       0.014\n",
      "politics_sites1_std         -0.0269      0.021     -1.273      0.203      -0.068       0.015\n",
      "politics_sites2_ideo_std     0.0581      0.022      2.619      0.009       0.015       0.102\n",
      "============================================================================================\n"
     ]
    }
   ],
   "source": [
    "# Define the dependent variable\n",
    "y = df_filled['suspended']\n",
    "\n",
    "# Define the independent variables (exclude 'suspension')\n",
    "X = df_filled[variables_to_normalize]\n",
    "\n",
    "# Add a constant term for the intercept\n",
    "X = sm.add_constant(X)\n",
    "\n",
    "# Fit the probit regression model\n",
    "probit_model = sm.Probit(y, X)\n",
    "probit_results = probit_model.fit()\n",
    "\n",
    "print(probit_results.summary())"
   ]
  },
  {
   "cell_type": "markdown",
   "id": "f4dc3be6",
   "metadata": {},
   "source": [
    "Before interpreting the results, we will perform the Bonferroni and the Holm Bonferroni correction."
   ]
  },
  {
   "cell_type": "code",
   "execution_count": 41,
   "id": "1db9a604",
   "metadata": {
    "scrolled": true
   },
   "outputs": [
    {
     "data": {
      "text/html": [
       "<div>\n",
       "<style scoped>\n",
       "    .dataframe tbody tr th:only-of-type {\n",
       "        vertical-align: middle;\n",
       "    }\n",
       "\n",
       "    .dataframe tbody tr th {\n",
       "        vertical-align: top;\n",
       "    }\n",
       "\n",
       "    .dataframe thead th {\n",
       "        text-align: right;\n",
       "    }\n",
       "</style>\n",
       "<table border=\"1\" class=\"dataframe\">\n",
       "  <thead>\n",
       "    <tr style=\"text-align: right;\">\n",
       "      <th></th>\n",
       "      <th>Variable</th>\n",
       "      <th>P-Value</th>\n",
       "      <th>Bonferroni</th>\n",
       "      <th>Holm-Bonferroni</th>\n",
       "    </tr>\n",
       "  </thead>\n",
       "  <tbody>\n",
       "    <tr>\n",
       "      <th>log_repeated_tweet_count</th>\n",
       "      <td>log_repeated_tweet_count</td>\n",
       "      <td>0.9795</td>\n",
       "      <td>1.0000</td>\n",
       "      <td>1.0000</td>\n",
       "    </tr>\n",
       "    <tr>\n",
       "      <th>pc1_fol</th>\n",
       "      <td>pc1_fol</td>\n",
       "      <td>0.9040</td>\n",
       "      <td>1.0000</td>\n",
       "      <td>1.0000</td>\n",
       "    </tr>\n",
       "    <tr>\n",
       "      <th>pc1_harmful_language</th>\n",
       "      <td>pc1_harmful_language</td>\n",
       "      <td>0.5346</td>\n",
       "      <td>1.0000</td>\n",
       "      <td>1.0000</td>\n",
       "    </tr>\n",
       "    <tr>\n",
       "      <th>politics_sites1_std</th>\n",
       "      <td>politics_sites1_std</td>\n",
       "      <td>0.2032</td>\n",
       "      <td>1.0000</td>\n",
       "      <td>1.0000</td>\n",
       "    </tr>\n",
       "    <tr>\n",
       "      <th>moral_outrage</th>\n",
       "      <td>moral_outrage</td>\n",
       "      <td>0.2015</td>\n",
       "      <td>1.0000</td>\n",
       "      <td>1.0000</td>\n",
       "    </tr>\n",
       "    <tr>\n",
       "      <th>liwc_political</th>\n",
       "      <td>liwc_political</td>\n",
       "      <td>0.1667</td>\n",
       "      <td>1.0000</td>\n",
       "      <td>1.0000</td>\n",
       "    </tr>\n",
       "    <tr>\n",
       "      <th>barbera_std</th>\n",
       "      <td>barbera_std</td>\n",
       "      <td>0.1655</td>\n",
       "      <td>1.0000</td>\n",
       "      <td>1.0000</td>\n",
       "    </tr>\n",
       "    <tr>\n",
       "      <th>pc1_valence</th>\n",
       "      <td>pc1_valence</td>\n",
       "      <td>0.0975</td>\n",
       "      <td>1.0000</td>\n",
       "      <td>0.7798</td>\n",
       "    </tr>\n",
       "    <tr>\n",
       "      <th>politics_sites2_ideo_std</th>\n",
       "      <td>politics_sites2_ideo_std</td>\n",
       "      <td>0.0088</td>\n",
       "      <td>0.1587</td>\n",
       "      <td>0.0793</td>\n",
       "    </tr>\n",
       "    <tr>\n",
       "      <th>pc1_politics</th>\n",
       "      <td>pc1_politics</td>\n",
       "      <td>0.0075</td>\n",
       "      <td>0.1345</td>\n",
       "      <td>0.0747</td>\n",
       "    </tr>\n",
       "    <tr>\n",
       "      <th>pc3_harmful_language</th>\n",
       "      <td>pc3_harmful_language</td>\n",
       "      <td>0.0058</td>\n",
       "      <td>0.1042</td>\n",
       "      <td>0.0637</td>\n",
       "    </tr>\n",
       "    <tr>\n",
       "      <th>log_freq_pr_1h</th>\n",
       "      <td>log_freq_pr_1h</td>\n",
       "      <td>0.0000</td>\n",
       "      <td>0.0000</td>\n",
       "      <td>0.0000</td>\n",
       "    </tr>\n",
       "    <tr>\n",
       "      <th>const</th>\n",
       "      <td>const</td>\n",
       "      <td>0.0000</td>\n",
       "      <td>0.0000</td>\n",
       "      <td>0.0000</td>\n",
       "    </tr>\n",
       "    <tr>\n",
       "      <th>extremity</th>\n",
       "      <td>extremity</td>\n",
       "      <td>0.0000</td>\n",
       "      <td>0.0000</td>\n",
       "      <td>0.0000</td>\n",
       "    </tr>\n",
       "    <tr>\n",
       "      <th>tweets_in_2wk</th>\n",
       "      <td>tweets_in_2wk</td>\n",
       "      <td>0.0000</td>\n",
       "      <td>0.0000</td>\n",
       "      <td>0.0000</td>\n",
       "    </tr>\n",
       "    <tr>\n",
       "      <th>pc2_harmful_language</th>\n",
       "      <td>pc2_harmful_language</td>\n",
       "      <td>0.0000</td>\n",
       "      <td>0.0000</td>\n",
       "      <td>0.0000</td>\n",
       "    </tr>\n",
       "    <tr>\n",
       "      <th>pc1_misinfo</th>\n",
       "      <td>pc1_misinfo</td>\n",
       "      <td>0.0000</td>\n",
       "      <td>0.0000</td>\n",
       "      <td>0.0000</td>\n",
       "    </tr>\n",
       "    <tr>\n",
       "      <th>botsentinel_score</th>\n",
       "      <td>botsentinel_score</td>\n",
       "      <td>0.0000</td>\n",
       "      <td>0.0000</td>\n",
       "      <td>0.0000</td>\n",
       "    </tr>\n",
       "  </tbody>\n",
       "</table>\n",
       "</div>"
      ],
      "text/plain": [
       "                                          Variable P-Value Bonferroni  \\\n",
       "log_repeated_tweet_count  log_repeated_tweet_count  0.9795     1.0000   \n",
       "pc1_fol                                    pc1_fol  0.9040     1.0000   \n",
       "pc1_harmful_language          pc1_harmful_language  0.5346     1.0000   \n",
       "politics_sites1_std            politics_sites1_std  0.2032     1.0000   \n",
       "moral_outrage                        moral_outrage  0.2015     1.0000   \n",
       "liwc_political                      liwc_political  0.1667     1.0000   \n",
       "barbera_std                            barbera_std  0.1655     1.0000   \n",
       "pc1_valence                            pc1_valence  0.0975     1.0000   \n",
       "politics_sites2_ideo_std  politics_sites2_ideo_std  0.0088     0.1587   \n",
       "pc1_politics                          pc1_politics  0.0075     0.1345   \n",
       "pc3_harmful_language          pc3_harmful_language  0.0058     0.1042   \n",
       "log_freq_pr_1h                      log_freq_pr_1h  0.0000     0.0000   \n",
       "const                                        const  0.0000     0.0000   \n",
       "extremity                                extremity  0.0000     0.0000   \n",
       "tweets_in_2wk                        tweets_in_2wk  0.0000     0.0000   \n",
       "pc2_harmful_language          pc2_harmful_language  0.0000     0.0000   \n",
       "pc1_misinfo                            pc1_misinfo  0.0000     0.0000   \n",
       "botsentinel_score                botsentinel_score  0.0000     0.0000   \n",
       "\n",
       "                         Holm-Bonferroni  \n",
       "log_repeated_tweet_count          1.0000  \n",
       "pc1_fol                           1.0000  \n",
       "pc1_harmful_language              1.0000  \n",
       "politics_sites1_std               1.0000  \n",
       "moral_outrage                     1.0000  \n",
       "liwc_political                    1.0000  \n",
       "barbera_std                       1.0000  \n",
       "pc1_valence                       0.7798  \n",
       "politics_sites2_ideo_std          0.0793  \n",
       "pc1_politics                      0.0747  \n",
       "pc3_harmful_language              0.0637  \n",
       "log_freq_pr_1h                    0.0000  \n",
       "const                             0.0000  \n",
       "extremity                         0.0000  \n",
       "tweets_in_2wk                     0.0000  \n",
       "pc2_harmful_language              0.0000  \n",
       "pc1_misinfo                       0.0000  \n",
       "botsentinel_score                 0.0000  "
      ]
     },
     "execution_count": 41,
     "metadata": {},
     "output_type": "execute_result"
    }
   ],
   "source": [
    "def bonferroni(results):\n",
    "    # Extract p-values from the probit regression results\n",
    "    p_values = results.pvalues\n",
    "\n",
    "    # Perform Bonferroni correction\n",
    "    _, bonferroni_corrected_p, _, _ = multipletests(p_values, method='bonferroni')\n",
    "\n",
    "    # Perform Holm-Bonferroni correction\n",
    "    _, holm_bonferroni_corrected_p, _, _ = multipletests(p_values, method='holm')\n",
    "\n",
    "    results_df = pd.DataFrame({\n",
    "        'Variable': probit_results.params.index,\n",
    "        'P-Value': p_values,\n",
    "        'Bonferroni': bonferroni_corrected_p,\n",
    "        'Holm-Bonferroni': holm_bonferroni_corrected_p\n",
    "    })\n",
    "\n",
    "    results_df[['P-Value', 'Bonferroni', 'Holm-Bonferroni']] = \\\n",
    "        results_df[['P-Value', 'Bonferroni', 'Holm-Bonferroni']].apply(lambda col: col.map(lambda x: f\"{x:.4f}\"))\n",
    "    df_sorted = results_df.sort_values(by='P-Value', ascending=False)\n",
    "    \n",
    "    return df_sorted\n",
    "\n",
    "bonferroni(probit_results)"
   ]
  },
  {
   "cell_type": "markdown",
   "id": "d61ed29e",
   "metadata": {},
   "source": [
    "### Result evaluation"
   ]
  },
  {
   "cell_type": "markdown",
   "id": "422b27da",
   "metadata": {},
   "source": [
    "* Null hypothesis (H0): There is no significant relationship between the variable and suspension\n",
    "* Alternative hypothesis (HA): There is a significant relationship between the variable and suspension\n",
    "<br> Significance level: 0.05\n"
   ]
  },
  {
   "cell_type": "markdown",
   "id": "0d86d254",
   "metadata": {},
   "source": [
    "Based on the Probit regression the variables that appear to have a significant relationship to suspension (p-value < 0.05) are:\n",
    "* Engagement in targeted harassment, toxic trolling, or uses deceptive tactics (botsentinel_score)\n",
    "* Low quality news sharing (pc1_misinfo)\n",
    "* Profanity of tweet (pc2_harmful_language)\n",
    "* Ammount of tweets shared in 2 weeks (tweets_in_2wk)\t\n",
    "* Political extremism - absolute value of political orientation (extremity)\n",
    "* Maximum frequency of primary tweets in an hour (log_freq_pr_1h)\n",
    "* Violence and threats in tweets (pc3_harmful_language)\n",
    "* Political orientation (pc1_politics)\n",
    "* Political ideology estimated on the basis of the news sites the users share (politics_sites2_ideo_std)\n"
   ]
  },
  {
   "cell_type": "markdown",
   "id": "b668f84a",
   "metadata": {},
   "source": [
    "The Bonferroni and Holm-Bonferroni correction being 0 in the first 6 variables from above confirms that the relationship between these variables and suspension is highly significant."
   ]
  },
  {
   "cell_type": "markdown",
   "id": "9e5ef959",
   "metadata": {},
   "source": [
    "### Logit regression"
   ]
  },
  {
   "cell_type": "markdown",
   "id": "5d56762a",
   "metadata": {},
   "source": [
    "We will perform logit regression to predict the variable suspended using all the variables/components we prepared."
   ]
  },
  {
   "cell_type": "code",
   "execution_count": 42,
   "id": "645bd142",
   "metadata": {
    "scrolled": false
   },
   "outputs": [
    {
     "name": "stdout",
     "output_type": "stream",
     "text": [
      "Optimization terminated successfully.\n",
      "         Current function value: 0.303728\n",
      "         Iterations 7\n",
      "                           Logit Regression Results                           \n",
      "==============================================================================\n",
      "Dep. Variable:              suspended   No. Observations:                 9000\n",
      "Model:                          Logit   Df Residuals:                     8982\n",
      "Method:                           MLE   Df Model:                           17\n",
      "Date:                Sun, 08 Dec 2024   Pseudo R-squ.:                  0.1732\n",
      "Time:                        23:14:23   Log-Likelihood:                -2733.6\n",
      "converged:                       True   LL-Null:                       -3306.3\n",
      "Covariance Type:            nonrobust   LLR p-value:                6.306e-233\n",
      "============================================================================================\n",
      "                               coef    std err          z      P>|z|      [0.025      0.975]\n",
      "--------------------------------------------------------------------------------------------\n",
      "const                       -2.5335      0.049    -51.843      0.000      -2.629      -2.438\n",
      "pc1_politics                 0.2822      0.100      2.811      0.005       0.085       0.479\n",
      "pc1_misinfo                  0.4593      0.086      5.318      0.000       0.290       0.629\n",
      "pc1_fol                      0.0037      0.039      0.096      0.923      -0.072       0.080\n",
      "pc1_harmful_language        -0.0532      0.067     -0.791      0.429      -0.185       0.079\n",
      "pc2_harmful_language         0.2259      0.048      4.661      0.000       0.131       0.321\n",
      "pc3_harmful_language         0.1549      0.053      2.940      0.003       0.052       0.258\n",
      "pc1_valence                  0.0604      0.041      1.478      0.139      -0.020       0.141\n",
      "tweets_in_2wk                0.6112      0.038     16.229      0.000       0.537       0.685\n",
      "botsentinel_score            0.3605      0.068      5.267      0.000       0.226       0.495\n",
      "extremity                   -0.2445      0.042     -5.828      0.000      -0.327      -0.162\n",
      "moral_outrage                0.0913      0.058      1.569      0.117      -0.023       0.205\n",
      "liwc_political              -0.0864      0.052     -1.650      0.099      -0.189       0.016\n",
      "log_freq_pr_1h               0.2204      0.043      5.184      0.000       0.137       0.304\n",
      "log_repeated_tweet_count    -0.0054      0.042     -0.129      0.898      -0.088       0.077\n",
      "barbera_std                 -0.0644      0.043     -1.496      0.135      -0.149       0.020\n",
      "politics_sites1_std         -0.0537      0.039     -1.366      0.172      -0.131       0.023\n",
      "politics_sites2_ideo_std     0.1015      0.041      2.486      0.013       0.021       0.182\n",
      "============================================================================================\n"
     ]
    }
   ],
   "source": [
    "# Define the dependent variable\n",
    "y = df_filled['suspended']\n",
    "\n",
    "# Define the independent variables (exclude 'suspension')\n",
    "X = df_filled[variables_to_normalize]\n",
    "\n",
    "# Add a constant term for the intercept\n",
    "X = sm.add_constant(X)\n",
    "\n",
    "# Fit the logit regression model\n",
    "logit_model = sm.Logit(y, X)\n",
    "logit_results = logit_model.fit()\n",
    "\n",
    "# Print the summary of the model\n",
    "print(logit_results.summary())"
   ]
  },
  {
   "cell_type": "markdown",
   "id": "483c8f2a",
   "metadata": {},
   "source": [
    "Before interpreting the results, we will again perform the Bonferroni and the Holm Bonferroni correction."
   ]
  },
  {
   "cell_type": "code",
   "execution_count": 43,
   "id": "65793c4e",
   "metadata": {},
   "outputs": [
    {
     "data": {
      "text/html": [
       "<div>\n",
       "<style scoped>\n",
       "    .dataframe tbody tr th:only-of-type {\n",
       "        vertical-align: middle;\n",
       "    }\n",
       "\n",
       "    .dataframe tbody tr th {\n",
       "        vertical-align: top;\n",
       "    }\n",
       "\n",
       "    .dataframe thead th {\n",
       "        text-align: right;\n",
       "    }\n",
       "</style>\n",
       "<table border=\"1\" class=\"dataframe\">\n",
       "  <thead>\n",
       "    <tr style=\"text-align: right;\">\n",
       "      <th></th>\n",
       "      <th>Variable</th>\n",
       "      <th>P-Value</th>\n",
       "      <th>Bonferroni</th>\n",
       "      <th>Holm-Bonferroni</th>\n",
       "    </tr>\n",
       "  </thead>\n",
       "  <tbody>\n",
       "    <tr>\n",
       "      <th>pc1_fol</th>\n",
       "      <td>pc1_fol</td>\n",
       "      <td>0.9233</td>\n",
       "      <td>1.0000</td>\n",
       "      <td>1.0000</td>\n",
       "    </tr>\n",
       "    <tr>\n",
       "      <th>log_repeated_tweet_count</th>\n",
       "      <td>log_repeated_tweet_count</td>\n",
       "      <td>0.8976</td>\n",
       "      <td>1.0000</td>\n",
       "      <td>1.0000</td>\n",
       "    </tr>\n",
       "    <tr>\n",
       "      <th>pc1_harmful_language</th>\n",
       "      <td>pc1_harmful_language</td>\n",
       "      <td>0.4290</td>\n",
       "      <td>1.0000</td>\n",
       "      <td>1.0000</td>\n",
       "    </tr>\n",
       "    <tr>\n",
       "      <th>politics_sites1_std</th>\n",
       "      <td>politics_sites1_std</td>\n",
       "      <td>0.1718</td>\n",
       "      <td>1.0000</td>\n",
       "      <td>0.8171</td>\n",
       "    </tr>\n",
       "    <tr>\n",
       "      <th>pc1_valence</th>\n",
       "      <td>pc1_valence</td>\n",
       "      <td>0.1395</td>\n",
       "      <td>1.0000</td>\n",
       "      <td>0.8171</td>\n",
       "    </tr>\n",
       "    <tr>\n",
       "      <th>barbera_std</th>\n",
       "      <td>barbera_std</td>\n",
       "      <td>0.1345</td>\n",
       "      <td>1.0000</td>\n",
       "      <td>0.8171</td>\n",
       "    </tr>\n",
       "    <tr>\n",
       "      <th>moral_outrage</th>\n",
       "      <td>moral_outrage</td>\n",
       "      <td>0.1167</td>\n",
       "      <td>1.0000</td>\n",
       "      <td>0.8171</td>\n",
       "    </tr>\n",
       "    <tr>\n",
       "      <th>liwc_political</th>\n",
       "      <td>liwc_political</td>\n",
       "      <td>0.0990</td>\n",
       "      <td>1.0000</td>\n",
       "      <td>0.7921</td>\n",
       "    </tr>\n",
       "    <tr>\n",
       "      <th>politics_sites2_ideo_std</th>\n",
       "      <td>politics_sites2_ideo_std</td>\n",
       "      <td>0.0129</td>\n",
       "      <td>0.2328</td>\n",
       "      <td>0.1164</td>\n",
       "    </tr>\n",
       "    <tr>\n",
       "      <th>pc1_politics</th>\n",
       "      <td>pc1_politics</td>\n",
       "      <td>0.0049</td>\n",
       "      <td>0.0888</td>\n",
       "      <td>0.0493</td>\n",
       "    </tr>\n",
       "    <tr>\n",
       "      <th>pc3_harmful_language</th>\n",
       "      <td>pc3_harmful_language</td>\n",
       "      <td>0.0033</td>\n",
       "      <td>0.0591</td>\n",
       "      <td>0.0361</td>\n",
       "    </tr>\n",
       "    <tr>\n",
       "      <th>log_freq_pr_1h</th>\n",
       "      <td>log_freq_pr_1h</td>\n",
       "      <td>0.0000</td>\n",
       "      <td>0.0000</td>\n",
       "      <td>0.0000</td>\n",
       "    </tr>\n",
       "    <tr>\n",
       "      <th>const</th>\n",
       "      <td>const</td>\n",
       "      <td>0.0000</td>\n",
       "      <td>0.0000</td>\n",
       "      <td>0.0000</td>\n",
       "    </tr>\n",
       "    <tr>\n",
       "      <th>extremity</th>\n",
       "      <td>extremity</td>\n",
       "      <td>0.0000</td>\n",
       "      <td>0.0000</td>\n",
       "      <td>0.0000</td>\n",
       "    </tr>\n",
       "    <tr>\n",
       "      <th>tweets_in_2wk</th>\n",
       "      <td>tweets_in_2wk</td>\n",
       "      <td>0.0000</td>\n",
       "      <td>0.0000</td>\n",
       "      <td>0.0000</td>\n",
       "    </tr>\n",
       "    <tr>\n",
       "      <th>pc2_harmful_language</th>\n",
       "      <td>pc2_harmful_language</td>\n",
       "      <td>0.0000</td>\n",
       "      <td>0.0001</td>\n",
       "      <td>0.0000</td>\n",
       "    </tr>\n",
       "    <tr>\n",
       "      <th>pc1_misinfo</th>\n",
       "      <td>pc1_misinfo</td>\n",
       "      <td>0.0000</td>\n",
       "      <td>0.0000</td>\n",
       "      <td>0.0000</td>\n",
       "    </tr>\n",
       "    <tr>\n",
       "      <th>botsentinel_score</th>\n",
       "      <td>botsentinel_score</td>\n",
       "      <td>0.0000</td>\n",
       "      <td>0.0000</td>\n",
       "      <td>0.0000</td>\n",
       "    </tr>\n",
       "  </tbody>\n",
       "</table>\n",
       "</div>"
      ],
      "text/plain": [
       "                                          Variable P-Value Bonferroni  \\\n",
       "pc1_fol                                    pc1_fol  0.9233     1.0000   \n",
       "log_repeated_tweet_count  log_repeated_tweet_count  0.8976     1.0000   \n",
       "pc1_harmful_language          pc1_harmful_language  0.4290     1.0000   \n",
       "politics_sites1_std            politics_sites1_std  0.1718     1.0000   \n",
       "pc1_valence                            pc1_valence  0.1395     1.0000   \n",
       "barbera_std                            barbera_std  0.1345     1.0000   \n",
       "moral_outrage                        moral_outrage  0.1167     1.0000   \n",
       "liwc_political                      liwc_political  0.0990     1.0000   \n",
       "politics_sites2_ideo_std  politics_sites2_ideo_std  0.0129     0.2328   \n",
       "pc1_politics                          pc1_politics  0.0049     0.0888   \n",
       "pc3_harmful_language          pc3_harmful_language  0.0033     0.0591   \n",
       "log_freq_pr_1h                      log_freq_pr_1h  0.0000     0.0000   \n",
       "const                                        const  0.0000     0.0000   \n",
       "extremity                                extremity  0.0000     0.0000   \n",
       "tweets_in_2wk                        tweets_in_2wk  0.0000     0.0000   \n",
       "pc2_harmful_language          pc2_harmful_language  0.0000     0.0001   \n",
       "pc1_misinfo                            pc1_misinfo  0.0000     0.0000   \n",
       "botsentinel_score                botsentinel_score  0.0000     0.0000   \n",
       "\n",
       "                         Holm-Bonferroni  \n",
       "pc1_fol                           1.0000  \n",
       "log_repeated_tweet_count          1.0000  \n",
       "pc1_harmful_language              1.0000  \n",
       "politics_sites1_std               0.8171  \n",
       "pc1_valence                       0.8171  \n",
       "barbera_std                       0.8171  \n",
       "moral_outrage                     0.8171  \n",
       "liwc_political                    0.7921  \n",
       "politics_sites2_ideo_std          0.1164  \n",
       "pc1_politics                      0.0493  \n",
       "pc3_harmful_language              0.0361  \n",
       "log_freq_pr_1h                    0.0000  \n",
       "const                             0.0000  \n",
       "extremity                         0.0000  \n",
       "tweets_in_2wk                     0.0000  \n",
       "pc2_harmful_language              0.0000  \n",
       "pc1_misinfo                       0.0000  \n",
       "botsentinel_score                 0.0000  "
      ]
     },
     "execution_count": 43,
     "metadata": {},
     "output_type": "execute_result"
    }
   ],
   "source": [
    "bonferroni(logit_results)"
   ]
  },
  {
   "cell_type": "markdown",
   "id": "9c2e65a6",
   "metadata": {},
   "source": [
    "### Result evaluation"
   ]
  },
  {
   "cell_type": "markdown",
   "id": "061deb6b",
   "metadata": {},
   "source": [
    "* Null hypothesis (H0): There is no significant relationship between the variable and suspension\n",
    "* Alternative hypothesis (HA): There is a significant relationship between the variable and suspension\n",
    "<br> Significance level: 0.05"
   ]
  },
  {
   "cell_type": "markdown",
   "id": "cbb85dfd",
   "metadata": {},
   "source": [
    "The Logit regression produces the same results as the Probit regression when it comes to the variables that have a significant relatioship to suspension.<br>\n",
    "For variables without a significant relationship to suspension, the two models give out approximately the same results except for:\n",
    "* The emotional affect (pc1_valence) which has a less significant relationship in the Logit results but it is still indicated as insignificant."
   ]
  },
  {
   "cell_type": "markdown",
   "id": "0ecbe636",
   "metadata": {},
   "source": [
    "## Conclusion"
   ]
  },
  {
   "cell_type": "markdown",
   "id": "9a4e86fe",
   "metadata": {},
   "source": [
    "The analysis shows that political beliefs do play a role in the probability of suspension on Twitter, but their influence is weaker compared to other factors.<br>The variable with the smallest p-value related to politics, and thus the strongest predictor of suspension, is political extremism (with a p-value much closer to 0). In contrast, the p-values for political orientation (Probit 0.0075 and Logit 0.0049) and political ideology (Probit 0.0088 and Logit 0.0129), while still significant, are closer to the 0.05 threshold, indicating a weaker impact.<br>This suggests that while political beliefs contribute somewhat to suspension risk, political extremism has a more pronounced effect compared to other political variables.<br>However, factors like engagement in harassment, sharing harmful content, and other behavioral patterns remain stronger predictors of suspension."
   ]
  },
  {
   "cell_type": "code",
   "execution_count": null,
   "id": "581ae22e",
   "metadata": {},
   "outputs": [],
   "source": []
  }
 ],
 "metadata": {
  "kernelspec": {
   "display_name": "Python 3 (ipykernel)",
   "language": "python",
   "name": "python3"
  },
  "language_info": {
   "codemirror_mode": {
    "name": "ipython",
    "version": 3
   },
   "file_extension": ".py",
   "mimetype": "text/x-python",
   "name": "python",
   "nbconvert_exporter": "python",
   "pygments_lexer": "ipython3",
   "version": "3.11.7"
  }
 },
 "nbformat": 4,
 "nbformat_minor": 5
}
